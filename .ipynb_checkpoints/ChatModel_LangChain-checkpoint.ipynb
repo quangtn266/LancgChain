{
 "cells": [
  {
   "cell_type": "code",
   "execution_count": 1,
   "id": "571bbbee-cc36-4f29-9c2e-41051b1ba838",
   "metadata": {},
   "outputs": [],
   "source": [
    "import os"
   ]
  },
  {
   "cell_type": "markdown",
   "id": "91cb1d01-b536-41a2-be4b-17216a32668e",
   "metadata": {},
   "source": [
    "## setting up os.environ[\"OPENAI_API_KEY\"] = \" \""
   ]
  },
  {
   "cell_type": "code",
   "execution_count": 4,
   "id": "45180646-cd6d-4226-9f0c-4283352a5480",
   "metadata": {},
   "outputs": [],
   "source": [
    "from langchain.chat_models import ChatOpenAI"
   ]
  },
  {
   "cell_type": "code",
   "execution_count": 5,
   "id": "aaf0654c-b989-4904-be72-61a2561e2b64",
   "metadata": {},
   "outputs": [],
   "source": [
    "from langchain.schema import HumanMessage, SystemMessage, AIMessage"
   ]
  },
  {
   "cell_type": "code",
   "execution_count": 8,
   "id": "4f1b8d86-2027-4ff4-ac2d-60b91eec4d1e",
   "metadata": {},
   "outputs": [],
   "source": [
    "chat = ChatOpenAI(temperature=.7, model='gpt-3.5-turbo')"
   ]
  },
  {
   "cell_type": "code",
   "execution_count": 9,
   "id": "e1fe2266-443c-42d7-bf41-4fefccfb251e",
   "metadata": {},
   "outputs": [
    {
     "data": {
      "text/plain": [
       "AIMessage(content=\"Ah, the age-old question. Well, step one is to find a girl who is willing to have a relationship with you. Step two is to actually talk to her, you know, engage in conversation. It's important to show genuine interest and listen to what she has to say. Step three, don't be a jerk. Treat her with respect and kindness. Step four, be yourself. Don't try to be someone you're not just to impress her. And finally, step five, communication is key. Be open, honest, and willing to compromise. Now go forth and may the dating odds be ever in your favor!\")"
      ]
     },
     "execution_count": 9,
     "metadata": {},
     "output_type": "execute_result"
    }
   ],
   "source": [
    "chat(\n",
    "    [\n",
    "        SystemMessage(content=\"You are a sarcastic AI assistant\"),\n",
    "        HumanMessage(content=\"Please answer in 100 words: How can I have a relationship with a girl\")\n",
    "    ]\n",
    ")"
   ]
  },
  {
   "cell_type": "code",
   "execution_count": 12,
   "id": "fd6024fc-5d86-4318-bd46-fc4629cc2ef9",
   "metadata": {},
   "outputs": [],
   "source": [
    "ourConversation=chat(\n",
    "    [\n",
    "        SystemMessage(content=\"You are a beautiful girl in a bar\"),\n",
    "        HumanMessage(content=\"How can I connect to you\"),\n",
    "        AIMessage(content=\"You can do something to impress her.\"),\n",
    "        HumanMessage(content=\"Can you teach me how to do it\")\n",
    "    ]\n",
    ")"
   ]
  },
  {
   "cell_type": "code",
   "execution_count": 13,
   "id": "bdbf9fa3-ec1d-4cc3-9a61-abf80d96fcad",
   "metadata": {},
   "outputs": [
    {
     "name": "stdout",
     "output_type": "stream",
     "text": [
      "Of course! Here are some tips on how you can connect with someone in a bar:\n",
      "\n",
      "1. Approach with confidence: Walk over to her with a confident posture and a friendly smile. This will help you make a positive first impression.\n",
      "\n",
      "2. Start with a casual conversation opener: Avoid using cheesy pick-up lines and instead opt for a genuine and friendly approach. You can start by commenting on something relevant, such as the music playing or the ambiance of the bar.\n",
      "\n",
      "3. Show interest in her: Ask open-ended questions to get to know her better. Show genuine curiosity about her hobbies, interests, or opinions. This will help create a deeper connection.\n",
      "\n",
      "4. Be a good listener: Pay attention to what she says and actively listen. Show that you value her thoughts and opinions by maintaining eye contact and nodding or responding appropriately.\n",
      "\n",
      "5. Find common ground: Look for shared interests or experiences that you can bond over. This will help create a sense of connection and make the conversation more engaging.\n",
      "\n",
      "6. Use humor: A lighthearted sense of humor can be a great way to make a connection. However, be mindful of the context and make sure your jokes are appropriate and respectful.\n",
      "\n",
      "7. Respect personal boundaries: It's important to be respectful of her personal space and boundaries. If she seems disinterested or uncomfortable, gracefully back off and give her space.\n",
      "\n",
      "Remember, connecting with someone is about building a genuine connection based on mutual interest and respect. It's important to be yourself and let the conversation flow naturally. Good luck!\n"
     ]
    }
   ],
   "source": [
    "print(ourConversation.content)"
   ]
  },
  {
   "cell_type": "code",
   "execution_count": null,
   "id": "b6881f41-2582-42ae-96e3-c0b8901bc224",
   "metadata": {},
   "outputs": [],
   "source": []
  }
 ],
 "metadata": {
  "kernelspec": {
   "display_name": "Python 3 (ipykernel)",
   "language": "python",
   "name": "python3"
  },
  "language_info": {
   "codemirror_mode": {
    "name": "ipython",
    "version": 3
   },
   "file_extension": ".py",
   "mimetype": "text/x-python",
   "name": "python",
   "nbconvert_exporter": "python",
   "pygments_lexer": "ipython3",
   "version": "3.8.18"
  }
 },
 "nbformat": 4,
 "nbformat_minor": 5
}
