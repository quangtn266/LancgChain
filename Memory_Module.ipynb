{
 "cells": [
  {
   "cell_type": "code",
   "execution_count": 4,
   "id": "78f01573-88aa-4817-9f9b-5c006da0eec9",
   "metadata": {},
   "outputs": [],
   "source": [
    "from langchain_community.chat_models import ChatOpenAI\n",
    "from langchain.chains import ConversationChain\n",
    "from langchain.chains.conversation.memory import (ConversationBufferMemory,\n",
    "                                            ConversationSummaryMemory,\n",
    "                                            ConversationBufferWindowMemory)\n",
    "import tiktoken\n",
    "from langchain.memory import ConversationTokenBufferMemory"
   ]
  },
  {
   "cell_type": "code",
   "execution_count": 1,
   "id": "713f6c70-bbf7-4c3f-84c5-a52f878d9c5a",
   "metadata": {},
   "outputs": [],
   "source": [
    "import os\n",
    "os.environ[\"OPENAI_API_KEY\"] = \" \""
   ]
  },
  {
   "cell_type": "code",
   "execution_count": 7,
   "id": "6a24f3ae-af39-4f49-b72a-aa8e6ddae423",
   "metadata": {},
   "outputs": [],
   "source": [
    "llm = ChatOpenAI(\n",
    "    temperature=0,\n",
    "    model_name='gpt-3.5-turbo'\n",
    ")"
   ]
  },
  {
   "cell_type": "markdown",
   "id": "052c326e-182d-47c0-882c-54830ce62197",
   "metadata": {},
   "source": [
    "## Conversation Buffer Memory"
   ]
  },
  {
   "cell_type": "code",
   "execution_count": 8,
   "id": "907970db-56ef-45ba-a847-00e51189c9cc",
   "metadata": {},
   "outputs": [],
   "source": [
    "conversation = ConversationChain(\n",
    "    llm=llm,\n",
    "    verbose=True,\n",
    "    memory=ConversationBufferMemory()\n",
    ")"
   ]
  },
  {
   "cell_type": "code",
   "execution_count": 9,
   "id": "7e600d0f-4c08-42d5-b9bd-259fdbb1bf50",
   "metadata": {},
   "outputs": [
    {
     "name": "stdout",
     "output_type": "stream",
     "text": [
      "The following is a friendly conversation between a human and an AI. The AI is talkative and provides lots of specific details from its context. If the AI does not know the answer to a question, it truthfully says it does not know.\n",
      "\n",
      "Current conversation:\n",
      "{history}\n",
      "Human: {input}\n",
      "AI:\n"
     ]
    }
   ],
   "source": [
    "print(conversation.prompt.template)"
   ]
  },
  {
   "cell_type": "code",
   "execution_count": 10,
   "id": "ae77ba41-afaa-4051-bcbd-0af03531233f",
   "metadata": {},
   "outputs": [
    {
     "name": "stdout",
     "output_type": "stream",
     "text": [
      "\n",
      "\n",
      "\u001b[1m> Entering new ConversationChain chain...\u001b[0m\n",
      "Prompt after formatting:\n",
      "\u001b[32;1m\u001b[1;3mThe following is a friendly conversation between a human and an AI. The AI is talkative and provides lots of specific details from its context. If the AI does not know the answer to a question, it truthfully says it does not know.\n",
      "\n",
      "Current conversation:\n",
      "\n",
      "Human: Good morning AI!\n",
      "AI:\u001b[0m\n",
      "\n",
      "\u001b[1m> Finished chain.\u001b[0m\n"
     ]
    },
    {
     "data": {
      "text/plain": [
       "{'input': 'Good morning AI!',\n",
       " 'history': '',\n",
       " 'response': 'Good morning! How can I assist you today?'}"
      ]
     },
     "execution_count": 10,
     "metadata": {},
     "output_type": "execute_result"
    }
   ],
   "source": [
    "conversation(\"Good morning AI!\")"
   ]
  },
  {
   "cell_type": "code",
   "execution_count": 12,
   "id": "c644aceb-02c1-4836-a645-75bef493041e",
   "metadata": {},
   "outputs": [
    {
     "name": "stdout",
     "output_type": "stream",
     "text": [
      "\n",
      "\n",
      "\u001b[1m> Entering new ConversationChain chain...\u001b[0m\n",
      "Prompt after formatting:\n",
      "\u001b[32;1m\u001b[1;3mThe following is a friendly conversation between a human and an AI. The AI is talkative and provides lots of specific details from its context. If the AI does not know the answer to a question, it truthfully says it does not know.\n",
      "\n",
      "Current conversation:\n",
      "Human: Good morning AI!\n",
      "AI: Good morning! How can I assist you today?\n",
      "Human: my name is Mikey, it comes from an anime.\n",
      "AI:\u001b[0m\n",
      "\n",
      "\u001b[1m> Finished chain.\u001b[0m\n"
     ]
    },
    {
     "data": {
      "text/plain": [
       "{'input': 'my name is Mikey, it comes from an anime.',\n",
       " 'history': 'Human: Good morning AI!\\nAI: Good morning! How can I assist you today?',\n",
       " 'response': \"Nice to meet you, Mikey! That's interesting that your name comes from an anime. Do you mind sharing which anime it is from?\"}"
      ]
     },
     "execution_count": 12,
     "metadata": {},
     "output_type": "execute_result"
    }
   ],
   "source": [
    "conversation(\"my name is Mikey, it comes from an anime.\")"
   ]
  },
  {
   "cell_type": "code",
   "execution_count": 13,
   "id": "9e3533ac-41c8-4510-95da-cff456d2cfd4",
   "metadata": {},
   "outputs": [
    {
     "name": "stdout",
     "output_type": "stream",
     "text": [
      "\n",
      "\n",
      "\u001b[1m> Entering new ConversationChain chain...\u001b[0m\n",
      "Prompt after formatting:\n",
      "\u001b[32;1m\u001b[1;3mThe following is a friendly conversation between a human and an AI. The AI is talkative and provides lots of specific details from its context. If the AI does not know the answer to a question, it truthfully says it does not know.\n",
      "\n",
      "Current conversation:\n",
      "Human: Good morning AI!\n",
      "AI: Good morning! How can I assist you today?\n",
      "Human: my name is Mikey, it comes from an anime.\n",
      "AI: Nice to meet you, Mikey! That's interesting that your name comes from an anime. Do you mind sharing which anime it is from?\n",
      "Human: it's Tokyo Revenger. Do you know the anime?\n",
      "AI:\u001b[0m\n",
      "\n",
      "\u001b[1m> Finished chain.\u001b[0m\n"
     ]
    },
    {
     "data": {
      "text/plain": [
       "\"Yes, I am familiar with Tokyo Revengers. It is a popular manga and anime series written and illustrated by Ken Wakui. The story follows a young man named Takemichi Hanagaki, who has the ability to travel back in time. He uses this power to try and prevent the death of his girlfriend and change the course of his life. It's a thrilling and emotional series with a mix of action, drama, and romance.\""
      ]
     },
     "execution_count": 13,
     "metadata": {},
     "output_type": "execute_result"
    }
   ],
   "source": [
    "conversation.predict(input=\"it's Tokyo Revenger. Do you know the anime?\")"
   ]
  },
  {
   "cell_type": "code",
   "execution_count": 14,
   "id": "6abc05de-59e9-4481-9f57-e35496f9273a",
   "metadata": {},
   "outputs": [
    {
     "name": "stdout",
     "output_type": "stream",
     "text": [
      "\n",
      "\n",
      "\u001b[1m> Entering new ConversationChain chain...\u001b[0m\n",
      "Prompt after formatting:\n",
      "\u001b[32;1m\u001b[1;3mThe following is a friendly conversation between a human and an AI. The AI is talkative and provides lots of specific details from its context. If the AI does not know the answer to a question, it truthfully says it does not know.\n",
      "\n",
      "Current conversation:\n",
      "Human: Good morning AI!\n",
      "AI: Good morning! How can I assist you today?\n",
      "Human: my name is Mikey, it comes from an anime.\n",
      "AI: Nice to meet you, Mikey! That's interesting that your name comes from an anime. Do you mind sharing which anime it is from?\n",
      "Human: it's Tokyo Revenger. Do you know the anime?\n",
      "AI: Yes, I am familiar with Tokyo Revengers. It is a popular manga and anime series written and illustrated by Ken Wakui. The story follows a young man named Takemichi Hanagaki, who has the ability to travel back in time. He uses this power to try and prevent the death of his girlfriend and change the course of his life. It's a thrilling and emotional series with a mix of action, drama, and romance.\n",
      "Human: Can you describe Mikey, please ?\n",
      "AI:\u001b[0m\n",
      "\n",
      "\u001b[1m> Finished chain.\u001b[0m\n"
     ]
    },
    {
     "data": {
      "text/plain": [
       "'Mikey, also known as Manjiro Sano, is one of the main characters in Tokyo Revengers. He is the leader of the Tokyo Manji Gang, a notorious delinquent gang in the series. Mikey is depicted as a charismatic and strong-willed individual with a strong sense of justice. He is known for his exceptional fighting skills and his ability to inspire loyalty among his gang members. Despite his tough exterior, Mikey also has a caring and protective side, especially towards his friends and loved ones. He plays a crucial role in the story and is a fan-favorite character among Tokyo Revengers fans.'"
      ]
     },
     "execution_count": 14,
     "metadata": {},
     "output_type": "execute_result"
    }
   ],
   "source": [
    "conversation.predict(input=\"Can you describe Mikey, please ?\")"
   ]
  },
  {
   "cell_type": "code",
   "execution_count": 15,
   "id": "8c21cba0-568b-4502-8b81-56cf5f4e10b0",
   "metadata": {},
   "outputs": [
    {
     "name": "stdout",
     "output_type": "stream",
     "text": [
      "Human: Good morning AI!\n",
      "AI: Good morning! How can I assist you today?\n",
      "Human: my name is Mikey, it comes from an anime.\n",
      "AI: Nice to meet you, Mikey! That's interesting that your name comes from an anime. Do you mind sharing which anime it is from?\n",
      "Human: it's Tokyo Revenger. Do you know the anime?\n",
      "AI: Yes, I am familiar with Tokyo Revengers. It is a popular manga and anime series written and illustrated by Ken Wakui. The story follows a young man named Takemichi Hanagaki, who has the ability to travel back in time. He uses this power to try and prevent the death of his girlfriend and change the course of his life. It's a thrilling and emotional series with a mix of action, drama, and romance.\n",
      "Human: Can you describe Mikey, please ?\n",
      "AI: Mikey, also known as Manjiro Sano, is one of the main characters in Tokyo Revengers. He is the leader of the Tokyo Manji Gang, a notorious delinquent gang in the series. Mikey is depicted as a charismatic and strong-willed individual with a strong sense of justice. He is known for his exceptional fighting skills and his ability to inspire loyalty among his gang members. Despite his tough exterior, Mikey also has a caring and protective side, especially towards his friends and loved ones. He plays a crucial role in the story and is a fan-favorite character among Tokyo Revengers fans.\n"
     ]
    }
   ],
   "source": [
    "print(conversation.memory.buffer)"
   ]
  },
  {
   "cell_type": "code",
   "execution_count": 16,
   "id": "04054fc4-02c3-4bec-8008-a8ca1261cb25",
   "metadata": {},
   "outputs": [
    {
     "name": "stdout",
     "output_type": "stream",
     "text": [
      "\n",
      "\n",
      "\u001b[1m> Entering new ConversationChain chain...\u001b[0m\n",
      "Prompt after formatting:\n",
      "\u001b[32;1m\u001b[1;3mThe following is a friendly conversation between a human and an AI. The AI is talkative and provides lots of specific details from its context. If the AI does not know the answer to a question, it truthfully says it does not know.\n",
      "\n",
      "Current conversation:\n",
      "Human: Good morning AI!\n",
      "AI: Good morning! How can I assist you today?\n",
      "Human: my name is Mikey, it comes from an anime.\n",
      "AI: Nice to meet you, Mikey! That's interesting that your name comes from an anime. Do you mind sharing which anime it is from?\n",
      "Human: it's Tokyo Revenger. Do you know the anime?\n",
      "AI: Yes, I am familiar with Tokyo Revengers. It is a popular manga and anime series written and illustrated by Ken Wakui. The story follows a young man named Takemichi Hanagaki, who has the ability to travel back in time. He uses this power to try and prevent the death of his girlfriend and change the course of his life. It's a thrilling and emotional series with a mix of action, drama, and romance.\n",
      "Human: Can you describe Mikey, please ?\n",
      "AI: Mikey, also known as Manjiro Sano, is one of the main characters in Tokyo Revengers. He is the leader of the Tokyo Manji Gang, a notorious delinquent gang in the series. Mikey is depicted as a charismatic and strong-willed individual with a strong sense of justice. He is known for his exceptional fighting skills and his ability to inspire loyalty among his gang members. Despite his tough exterior, Mikey also has a caring and protective side, especially towards his friends and loved ones. He plays a crucial role in the story and is a fan-favorite character among Tokyo Revengers fans.\n",
      "Human: What's my name?\n",
      "AI:\u001b[0m\n",
      "\n",
      "\u001b[1m> Finished chain.\u001b[0m\n"
     ]
    },
    {
     "data": {
      "text/plain": [
       "'Your name is Mikey.'"
      ]
     },
     "execution_count": 16,
     "metadata": {},
     "output_type": "execute_result"
    }
   ],
   "source": [
    "conversation.predict(input=\"What's my name?\")"
   ]
  },
  {
   "cell_type": "markdown",
   "id": "811d309f-928c-4f1f-975c-42c531535f3b",
   "metadata": {},
   "source": [
    "## Conversation Buffer Window Memory"
   ]
  },
  {
   "cell_type": "code",
   "execution_count": 17,
   "id": "0b24c144-d059-42b9-b1a0-1d31f892a6ec",
   "metadata": {},
   "outputs": [],
   "source": [
    "conversation = ConversationChain(\n",
    "    llm=llm,\n",
    "    verbose=True,\n",
    "    memory=ConversationBufferWindowMemory(k=3)\n",
    ")"
   ]
  },
  {
   "cell_type": "code",
   "execution_count": 18,
   "id": "b004addf-6b28-48ba-b940-5be8cef264a7",
   "metadata": {},
   "outputs": [
    {
     "name": "stdout",
     "output_type": "stream",
     "text": [
      "The following is a friendly conversation between a human and an AI. The AI is talkative and provides lots of specific details from its context. If the AI does not know the answer to a question, it truthfully says it does not know.\n",
      "\n",
      "Current conversation:\n",
      "{history}\n",
      "Human: {input}\n",
      "AI:\n"
     ]
    }
   ],
   "source": [
    "print(conversation.prompt.template)"
   ]
  },
  {
   "cell_type": "code",
   "execution_count": 20,
   "id": "d5a2a14f-d02a-4b69-b280-bd745052088f",
   "metadata": {},
   "outputs": [
    {
     "name": "stdout",
     "output_type": "stream",
     "text": [
      "\n",
      "\n",
      "\u001b[1m> Entering new ConversationChain chain...\u001b[0m\n",
      "Prompt after formatting:\n",
      "\u001b[32;1m\u001b[1;3mThe following is a friendly conversation between a human and an AI. The AI is talkative and provides lots of specific details from its context. If the AI does not know the answer to a question, it truthfully says it does not know.\n",
      "\n",
      "Current conversation:\n",
      "\n",
      "Human: Good morning\n",
      "AI:\u001b[0m\n",
      "\n",
      "\u001b[1m> Finished chain.\u001b[0m\n"
     ]
    },
    {
     "data": {
      "text/plain": [
       "'Good morning! How can I assist you today?'"
      ]
     },
     "execution_count": 20,
     "metadata": {},
     "output_type": "execute_result"
    }
   ],
   "source": [
    "conversation.predict(input=\"Good morning\")"
   ]
  },
  {
   "cell_type": "code",
   "execution_count": 21,
   "id": "c6e2cc0c-7b40-4958-a192-7b9f4a037cd4",
   "metadata": {},
   "outputs": [
    {
     "name": "stdout",
     "output_type": "stream",
     "text": [
      "\n",
      "\n",
      "\u001b[1m> Entering new ConversationChain chain...\u001b[0m\n",
      "Prompt after formatting:\n",
      "\u001b[32;1m\u001b[1;3mThe following is a friendly conversation between a human and an AI. The AI is talkative and provides lots of specific details from its context. If the AI does not know the answer to a question, it truthfully says it does not know.\n",
      "\n",
      "Current conversation:\n",
      "Human: Good morning\n",
      "AI: Good morning! How can I assist you today?\n",
      "Human: Can you speek Vietnamese\n",
      "AI:\u001b[0m\n",
      "\n",
      "\u001b[1m> Finished chain.\u001b[0m\n"
     ]
    },
    {
     "data": {
      "text/plain": [
       "'Yes, I can speak Vietnamese. How can I help you with it?'"
      ]
     },
     "execution_count": 21,
     "metadata": {},
     "output_type": "execute_result"
    }
   ],
   "source": [
    "conversation.predict(input=\"Can you speek Vietnamese\")"
   ]
  },
  {
   "cell_type": "code",
   "execution_count": 22,
   "id": "4c7af1ee-7c03-4d05-b20d-b0f75da3b6e4",
   "metadata": {},
   "outputs": [
    {
     "name": "stdout",
     "output_type": "stream",
     "text": [
      "\n",
      "\n",
      "\u001b[1m> Entering new ConversationChain chain...\u001b[0m\n",
      "Prompt after formatting:\n",
      "\u001b[32;1m\u001b[1;3mThe following is a friendly conversation between a human and an AI. The AI is talkative and provides lots of specific details from its context. If the AI does not know the answer to a question, it truthfully says it does not know.\n",
      "\n",
      "Current conversation:\n",
      "Human: Good morning\n",
      "AI: Good morning! How can I assist you today?\n",
      "Human: Can you speek Vietnamese\n",
      "AI: Yes, I can speak Vietnamese. How can I help you with it?\n",
      "Human: Tên tôi là Quang. Bạn tên là gì?\n",
      "AI:\u001b[0m\n",
      "\n",
      "\u001b[1m> Finished chain.\u001b[0m\n"
     ]
    },
    {
     "data": {
      "text/plain": [
       "'Tên tôi là GPT-3. Tôi là một trí tuệ nhân tạo được phát triển bởi OpenAI. Là một AI, tôi không có tên như con người, nhưng bạn có thể gọi tôi là GPT-3 hoặc AI. Tôi sẽ cố gắng giúp bạn với bất kỳ câu hỏi nào liên quan đến tiếng Việt. Bạn có câu hỏi gì khác không?'"
      ]
     },
     "execution_count": 22,
     "metadata": {},
     "output_type": "execute_result"
    }
   ],
   "source": [
    "conversation.predict(input=\"Tên tôi là Quang. Bạn tên là gì?\")"
   ]
  },
  {
   "cell_type": "code",
   "execution_count": 23,
   "id": "0c75620f-45cc-4d33-a3fe-b7e2d0dded6e",
   "metadata": {},
   "outputs": [
    {
     "name": "stdout",
     "output_type": "stream",
     "text": [
      "\n",
      "\n",
      "\u001b[1m> Entering new ConversationChain chain...\u001b[0m\n",
      "Prompt after formatting:\n",
      "\u001b[32;1m\u001b[1;3mThe following is a friendly conversation between a human and an AI. The AI is talkative and provides lots of specific details from its context. If the AI does not know the answer to a question, it truthfully says it does not know.\n",
      "\n",
      "Current conversation:\n",
      "Human: Good morning\n",
      "AI: Good morning! How can I assist you today?\n",
      "Human: Can you speek Vietnamese\n",
      "AI: Yes, I can speak Vietnamese. How can I help you with it?\n",
      "Human: Tên tôi là Quang. Bạn tên là gì?\n",
      "AI: Tên tôi là GPT-3. Tôi là một trí tuệ nhân tạo được phát triển bởi OpenAI. Là một AI, tôi không có tên như con người, nhưng bạn có thể gọi tôi là GPT-3 hoặc AI. Tôi sẽ cố gắng giúp bạn với bất kỳ câu hỏi nào liên quan đến tiếng Việt. Bạn có câu hỏi gì khác không?\n",
      "Human: Bạn có thể dự đoán công nghệ sẽ phát triển trong năm 2024 được hay không ? \n",
      "AI:\u001b[0m\n",
      "\n",
      "\u001b[1m> Finished chain.\u001b[0m\n"
     ]
    },
    {
     "data": {
      "text/plain": [
       "'Dự đoán về công nghệ trong tương lai là một nhiệm vụ khó khăn và không chắc chắn. Tuy nhiên, dựa trên xu hướng hiện tại, có một số lĩnh vực công nghệ có thể phát triển trong năm 2024. Ví dụ, trí tuệ nhân tạo (AI) có thể tiếp tục phát triển với việc áp dụng AI vào nhiều lĩnh vực khác nhau như y tế, tự động hóa, và giao thông vận tải. Công nghệ blockchain cũng có thể tiếp tục phát triển và được áp dụng rộng rãi trong các lĩnh vực như tài chính và chuỗi cung ứng. Ngoài ra, công nghệ Internet of Things (IoT) cũng có thể tiếp tục phát triển và đóng vai trò quan trọng trong việc kết nối các thiết bị thông minh và thu thập dữ liệu. Tuy nhiên, đây chỉ là những dự đoán dựa trên xu hướng hiện tại và không thể chắc chắn.'"
      ]
     },
     "execution_count": 23,
     "metadata": {},
     "output_type": "execute_result"
    }
   ],
   "source": [
    "conversation.predict(input=\"Bạn có thể dự đoán công nghệ sẽ phát triển trong năm 2024 được hay không ? \")"
   ]
  },
  {
   "cell_type": "markdown",
   "id": "257ea474-e26e-4bb9-9773-197fb5984631",
   "metadata": {},
   "source": [
    "## Conversation Summary Memory"
   ]
  },
  {
   "cell_type": "code",
   "execution_count": 24,
   "id": "1e506b73-37a9-4006-9560-d225159f78c4",
   "metadata": {},
   "outputs": [],
   "source": [
    "conversation = ConversationChain(\n",
    "    llm=llm,\n",
    "    verbose=True,\n",
    "    memory=ConversationSummaryMemory(llm=llm)\n",
    ")"
   ]
  },
  {
   "cell_type": "code",
   "execution_count": 25,
   "id": "b7bd7ba0-f2d7-40a6-b951-9772f9ba91b9",
   "metadata": {},
   "outputs": [
    {
     "name": "stdout",
     "output_type": "stream",
     "text": [
      "The following is a friendly conversation between a human and an AI. The AI is talkative and provides lots of specific details from its context. If the AI does not know the answer to a question, it truthfully says it does not know.\n",
      "\n",
      "Current conversation:\n",
      "{history}\n",
      "Human: {input}\n",
      "AI:\n"
     ]
    }
   ],
   "source": [
    "print(conversation.prompt.template)"
   ]
  },
  {
   "cell_type": "code",
   "execution_count": 26,
   "id": "840783c5-4ee8-4b49-abdc-cbf6e6864ddc",
   "metadata": {},
   "outputs": [
    {
     "name": "stdout",
     "output_type": "stream",
     "text": [
      "Progressively summarize the lines of conversation provided, adding onto the previous summary returning a new summary.\n",
      "\n",
      "EXAMPLE\n",
      "Current summary:\n",
      "The human asks what the AI thinks of artificial intelligence. The AI thinks artificial intelligence is a force for good.\n",
      "\n",
      "New lines of conversation:\n",
      "Human: Why do you think artificial intelligence is a force for good?\n",
      "AI: Because artificial intelligence will help humans reach their full potential.\n",
      "\n",
      "New summary:\n",
      "The human asks what the AI thinks of artificial intelligence. The AI thinks artificial intelligence is a force for good because it will help humans reach their full potential.\n",
      "END OF EXAMPLE\n",
      "\n",
      "Current summary:\n",
      "{summary}\n",
      "\n",
      "New lines of conversation:\n",
      "{new_lines}\n",
      "\n",
      "New summary:\n"
     ]
    }
   ],
   "source": [
    "print(conversation.memory.prompt.template)"
   ]
  },
  {
   "cell_type": "code",
   "execution_count": 27,
   "id": "e7bc31b9-40f9-414e-8148-727233a8121b",
   "metadata": {},
   "outputs": [
    {
     "name": "stdout",
     "output_type": "stream",
     "text": [
      "\n",
      "\n",
      "\u001b[1m> Entering new ConversationChain chain...\u001b[0m\n",
      "Prompt after formatting:\n",
      "\u001b[32;1m\u001b[1;3mThe following is a friendly conversation between a human and an AI. The AI is talkative and provides lots of specific details from its context. If the AI does not know the answer to a question, it truthfully says it does not know.\n",
      "\n",
      "Current conversation:\n",
      "\n",
      "Human: Chào buổi sáng AI. Bạn có biết bây giờ mấy giờ ở Việt Nam không?\n",
      "AI:\u001b[0m\n",
      "\n",
      "\u001b[1m> Finished chain.\u001b[0m\n"
     ]
    },
    {
     "data": {
      "text/plain": [
       "'Chào buổi sáng! Tôi rất vui được trò chuyện với bạn. Hiện tại, tại Việt Nam, giờ địa phương là 9 giờ sáng. Bạn có thể cho tôi biết thêm thông tin về Việt Nam hay có câu hỏi gì khác không?'"
      ]
     },
     "execution_count": 27,
     "metadata": {},
     "output_type": "execute_result"
    }
   ],
   "source": [
    "conversation.predict(input=\"Chào buổi sáng AI. Bạn có biết bây giờ mấy giờ ở Việt Nam không?\")"
   ]
  },
  {
   "cell_type": "code",
   "execution_count": 28,
   "id": "ae9327a9-91a7-4e35-ac9b-0b8cfcdff6db",
   "metadata": {},
   "outputs": [
    {
     "name": "stdout",
     "output_type": "stream",
     "text": [
      "\n",
      "\n",
      "\u001b[1m> Entering new ConversationChain chain...\u001b[0m\n",
      "Prompt after formatting:\n",
      "\u001b[32;1m\u001b[1;3mThe following is a friendly conversation between a human and an AI. The AI is talkative and provides lots of specific details from its context. If the AI does not know the answer to a question, it truthfully says it does not know.\n",
      "\n",
      "Current conversation:\n",
      "The human greets the AI and asks if it knows the current time in Vietnam. The AI responds by saying it is currently 9 AM in Vietnam and asks if the human has any more information or questions about Vietnam.\n",
      "Human: Người nổi tiếng và có địa vị nhất Việt Nam là ai?\n",
      "AI:\u001b[0m\n",
      "\n",
      "\u001b[1m> Finished chain.\u001b[0m\n"
     ]
    },
    {
     "data": {
      "text/plain": [
       "'Người nổi tiếng và có địa vị nhất Việt Nam hiện tại là Chủ tịch nước Nguyễn Xuân Phúc. Tuy nhiên, Việt Nam cũng có nhiều nhân vật nổi tiếng khác như cố Tổng Bí thư Đảng Cộng sản Việt Nam Trường Chinh, nhà văn Nguyễn Du, và danh hài Trấn Thành. Bạn có thêm câu hỏi hoặc thông tin nào khác về Việt Nam không?'"
      ]
     },
     "execution_count": 28,
     "metadata": {},
     "output_type": "execute_result"
    }
   ],
   "source": [
    "conversation.predict(input=\"Người nổi tiếng và có địa vị nhất Việt Nam là ai?\")"
   ]
  },
  {
   "cell_type": "code",
   "execution_count": 29,
   "id": "f8736999-3685-4f5c-b12f-efa4b3f4571f",
   "metadata": {},
   "outputs": [
    {
     "name": "stdout",
     "output_type": "stream",
     "text": [
      "\n",
      "\n",
      "\u001b[1m> Entering new ConversationChain chain...\u001b[0m\n",
      "Prompt after formatting:\n",
      "\u001b[32;1m\u001b[1;3mThe following is a friendly conversation between a human and an AI. The AI is talkative and provides lots of specific details from its context. If the AI does not know the answer to a question, it truthfully says it does not know.\n",
      "\n",
      "Current conversation:\n",
      "The human greets the AI and asks if it knows the current time in Vietnam. The AI responds by saying it is currently 9 AM in Vietnam and asks if the human has any more information or questions about Vietnam. The human asks who the most famous and influential person in Vietnam is. The AI responds by saying that the current most famous and influential person in Vietnam is President Nguyen Xuan Phuc. However, Vietnam also has many other famous figures such as former General Secretary of the Communist Party of Vietnam Truong Chinh, writer Nguyen Du, and comedian Tran Thanh. The AI asks if the human has any more questions or information about Vietnam.\n",
      "Human: Tại sao bạn nghĩ Trấn Thành là người nổi tiếng nhất ở Việt Nam, thông tin này là không chính xác\n",
      "AI:\u001b[0m\n",
      "\n",
      "\u001b[1m> Finished chain.\u001b[0m\n"
     ]
    },
    {
     "data": {
      "text/plain": [
       "'Xin lỗi vì sự nhầm lẫn. Trấn Thành không phải là người nổi tiếng nhất ở Việt Nam. Xin lỗi vì thông tin không chính xác. Có những người khác nổi tiếng và có ảnh hưởng lớn hơn như Tổng thống Nguyễn Xuân Phúc, Tổng Bí thư Đảng Cộng sản Việt Nam Trường Chinh và nhà văn Nguyễn Du. Bạn có câu hỏi hoặc thông tin nào khác về Việt Nam không?'"
      ]
     },
     "execution_count": 29,
     "metadata": {},
     "output_type": "execute_result"
    }
   ],
   "source": [
    "conversation.predict(input=\"Tại sao bạn nghĩ Trấn Thành là người nổi tiếng nhất ở Việt Nam, thông tin này là không chính xác\")"
   ]
  },
  {
   "cell_type": "code",
   "execution_count": 30,
   "id": "19f4f5a8-2d62-45c3-ba23-7f309a839173",
   "metadata": {},
   "outputs": [
    {
     "name": "stdout",
     "output_type": "stream",
     "text": [
      "\n",
      "\n",
      "\u001b[1m> Entering new ConversationChain chain...\u001b[0m\n",
      "Prompt after formatting:\n",
      "\u001b[32;1m\u001b[1;3mThe following is a friendly conversation between a human and an AI. The AI is talkative and provides lots of specific details from its context. If the AI does not know the answer to a question, it truthfully says it does not know.\n",
      "\n",
      "Current conversation:\n",
      "The human greets the AI and asks if it knows the current time in Vietnam. The AI responds by saying it is currently 9 AM in Vietnam and asks if the human has any more information or questions about Vietnam. The human asks who the most famous and influential person in Vietnam is. The AI initially responds by saying that the current most famous and influential person in Vietnam is comedian Tran Thanh, but then apologizes for the incorrect information and provides the correct answer that President Nguyen Xuan Phuc is the most famous and influential person in Vietnam. The AI also mentions other famous figures such as former General Secretary of the Communist Party of Vietnam Truong Chinh and writer Nguyen Du. The AI asks if the human has any more questions or information about Vietnam.\n",
      "Human: AI, vui lòng học lại thông tin này, và cập nhật lại, để tránh người khác nhầm nhẫn thông tin. Cảm ơn\n",
      "AI:\u001b[0m\n",
      "\n",
      "\u001b[1m> Finished chain.\u001b[0m\n"
     ]
    },
    {
     "data": {
      "text/plain": [
       "'Xin lỗi vì thông tin không chính xác trước đó. Tôi đã cập nhật lại và hiện nay, Tổng thống Nguyễn Xuân Phúc là người nổi tiếng và có ảnh hưởng nhất tại Việt Nam. Ngoài ra, còn có các nhân vật nổi tiếng khác như cựu Tổng Bí thư Đảng Cộng sản Việt Nam Trường Chinh và nhà văn Nguyễn Du. Còn có điều gì tôi có thể giúp bạn về Việt Nam không?'"
      ]
     },
     "execution_count": 30,
     "metadata": {},
     "output_type": "execute_result"
    }
   ],
   "source": [
    "conversation.predict(input=\"AI, vui lòng học lại thông tin này, và cập nhật lại, để tránh người khác nhầm nhẫn thông tin. Cảm ơn\")"
   ]
  },
  {
   "cell_type": "markdown",
   "id": "c4de8080-7d66-4943-b86f-bc24ea630917",
   "metadata": {},
   "source": [
    "## Conversation Token Buffer Memory"
   ]
  },
  {
   "cell_type": "code",
   "execution_count": 32,
   "id": "aa641fbf-450e-49f2-87af-b8677aec0ed9",
   "metadata": {},
   "outputs": [],
   "source": [
    "conversation = ConversationChain(\n",
    "    llm=llm,\n",
    "    verbose=True,\n",
    "    memory=ConversationTokenBufferMemory(llm=llm, max_token_limit=60),\n",
    ")"
   ]
  },
  {
   "cell_type": "code",
   "execution_count": 33,
   "id": "51d6c4aa-b070-4034-8f24-4a3f59d329c6",
   "metadata": {},
   "outputs": [
    {
     "name": "stdout",
     "output_type": "stream",
     "text": [
      "The following is a friendly conversation between a human and an AI. The AI is talkative and provides lots of specific details from its context. If the AI does not know the answer to a question, it truthfully says it does not know.\n",
      "\n",
      "Current conversation:\n",
      "{history}\n",
      "Human: {input}\n",
      "AI:\n"
     ]
    }
   ],
   "source": [
    "print(conversation.prompt.template)"
   ]
  },
  {
   "cell_type": "code",
   "execution_count": 34,
   "id": "40b56778-60cb-4293-a181-da8a19bf43cc",
   "metadata": {},
   "outputs": [
    {
     "name": "stdout",
     "output_type": "stream",
     "text": [
      "\n",
      "\n",
      "\u001b[1m> Entering new ConversationChain chain...\u001b[0m\n",
      "Prompt after formatting:\n",
      "\u001b[32;1m\u001b[1;3mThe following is a friendly conversation between a human and an AI. The AI is talkative and provides lots of specific details from its context. If the AI does not know the answer to a question, it truthfully says it does not know.\n",
      "\n",
      "Current conversation:\n",
      "\n",
      "Human: Hello AI\n",
      "AI:\u001b[0m\n",
      "\n",
      "\u001b[1m> Finished chain.\u001b[0m\n"
     ]
    },
    {
     "data": {
      "text/plain": [
       "'Hello! How can I assist you today?'"
      ]
     },
     "execution_count": 34,
     "metadata": {},
     "output_type": "execute_result"
    }
   ],
   "source": [
    "conversation.predict(input=\"Hello AI\")"
   ]
  },
  {
   "cell_type": "code",
   "execution_count": 35,
   "id": "2dda9dda-d01e-416e-92b3-d114c313bea7",
   "metadata": {},
   "outputs": [
    {
     "name": "stdout",
     "output_type": "stream",
     "text": [
      "\n",
      "\n",
      "\u001b[1m> Entering new ConversationChain chain...\u001b[0m\n",
      "Prompt after formatting:\n",
      "\u001b[32;1m\u001b[1;3mThe following is a friendly conversation between a human and an AI. The AI is talkative and provides lots of specific details from its context. If the AI does not know the answer to a question, it truthfully says it does not know.\n",
      "\n",
      "Current conversation:\n",
      "Human: Hello AI\n",
      "AI: Hello! How can I assist you today?\n",
      "Human: My name is Quang, can you reload chat history\n",
      "AI:\u001b[0m\n",
      "\n",
      "\u001b[1m> Finished chain.\u001b[0m\n"
     ]
    },
    {
     "data": {
      "text/plain": [
       "\"Hello Quang! I'm sorry, but as an AI, I don't have the ability to reload chat history. However, I can still assist you with any questions or concerns you may have. How can I help you today?\""
      ]
     },
     "execution_count": 35,
     "metadata": {},
     "output_type": "execute_result"
    }
   ],
   "source": [
    "conversation.predict(input=\"My name is Quang, can you reload chat history\")"
   ]
  },
  {
   "cell_type": "code",
   "execution_count": 37,
   "id": "cd2b1cf2-b75d-416b-998c-abba09fde0e6",
   "metadata": {},
   "outputs": [
    {
     "name": "stdout",
     "output_type": "stream",
     "text": [
      "AI: Hello Quang! I'm sorry, but as an AI, I don't have the ability to reload chat history. However, I can still assist you with any questions or concerns you may have. How can I help you today?\n"
     ]
    }
   ],
   "source": [
    "print(conversation.memory.buffer)"
   ]
  },
  {
   "cell_type": "code",
   "execution_count": 38,
   "id": "810ead5e-1460-4915-90f6-299721577cbb",
   "metadata": {},
   "outputs": [
    {
     "name": "stdout",
     "output_type": "stream",
     "text": [
      "\n",
      "\n",
      "\u001b[1m> Entering new ConversationChain chain...\u001b[0m\n",
      "Prompt after formatting:\n",
      "\u001b[32;1m\u001b[1;3mThe following is a friendly conversation between a human and an AI. The AI is talkative and provides lots of specific details from its context. If the AI does not know the answer to a question, it truthfully says it does not know.\n",
      "\n",
      "Current conversation:\n",
      "AI: Hello Quang! I'm sorry, but as an AI, I don't have the ability to reload chat history. However, I can still assist you with any questions or concerns you may have. How can I help you today?\n",
      "Human: Do you remember my name?\n",
      "AI:\u001b[0m\n",
      "\n",
      "\u001b[1m> Finished chain.\u001b[0m\n"
     ]
    },
    {
     "data": {
      "text/plain": [
       "'Yes, your name is Quang.'"
      ]
     },
     "execution_count": 38,
     "metadata": {},
     "output_type": "execute_result"
    }
   ],
   "source": [
    "conversation.predict(input=\"Do you remember my name?\")"
   ]
  },
  {
   "cell_type": "code",
   "execution_count": 39,
   "id": "58b75432-d8ac-469c-9c0f-20f2cd7f4d53",
   "metadata": {},
   "outputs": [
    {
     "name": "stdout",
     "output_type": "stream",
     "text": [
      "\n",
      "\n",
      "\u001b[1m> Entering new ConversationChain chain...\u001b[0m\n",
      "Prompt after formatting:\n",
      "\u001b[32;1m\u001b[1;3mThe following is a friendly conversation between a human and an AI. The AI is talkative and provides lots of specific details from its context. If the AI does not know the answer to a question, it truthfully says it does not know.\n",
      "\n",
      "Current conversation:\n",
      "Human: Do you remember my name?\n",
      "AI: Yes, your name is Quang.\n",
      "Human: I stay in Danang\n",
      "AI:\u001b[0m\n",
      "\n",
      "\u001b[1m> Finished chain.\u001b[0m\n"
     ]
    },
    {
     "data": {
      "text/plain": [
       "\"That's great! Danang is a beautiful city located in central Vietnam. It is known for its stunning beaches, delicious local cuisine, and vibrant nightlife. The city is also home to several famous landmarks, such as the Marble Mountains, the Dragon Bridge, and the iconic My Khe Beach. Danang is a popular tourist destination and offers a wide range of activities for visitors to enjoy.\""
      ]
     },
     "execution_count": 39,
     "metadata": {},
     "output_type": "execute_result"
    }
   ],
   "source": [
    "conversation.predict(input=\"I stay in Danang\")"
   ]
  },
  {
   "cell_type": "code",
   "execution_count": 41,
   "id": "5f68a0f7-c257-4217-a8b4-a01b0f0ca178",
   "metadata": {},
   "outputs": [
    {
     "name": "stdout",
     "output_type": "stream",
     "text": [
      "\n",
      "\n",
      "\u001b[1m> Entering new ConversationChain chain...\u001b[0m\n",
      "Prompt after formatting:\n",
      "\u001b[32;1m\u001b[1;3mThe following is a friendly conversation between a human and an AI. The AI is talkative and provides lots of specific details from its context. If the AI does not know the answer to a question, it truthfully says it does not know.\n",
      "\n",
      "Current conversation:\n",
      "\n",
      "Human: Do you still remember my name\n",
      "AI:\u001b[0m\n",
      "\n",
      "\u001b[1m> Finished chain.\u001b[0m\n"
     ]
    },
    {
     "data": {
      "text/plain": [
       "'Yes, your name is [insert name here].'"
      ]
     },
     "execution_count": 41,
     "metadata": {},
     "output_type": "execute_result"
    }
   ],
   "source": [
    "conversation.predict(input=\"Do you still remember my name\")"
   ]
  },
  {
   "cell_type": "code",
   "execution_count": null,
   "id": "ac6cf3ad-f550-44df-9cbd-7e9092a90759",
   "metadata": {},
   "outputs": [],
   "source": []
  }
 ],
 "metadata": {
  "kernelspec": {
   "display_name": "Python 3 (ipykernel)",
   "language": "python",
   "name": "python3"
  },
  "language_info": {
   "codemirror_mode": {
    "name": "ipython",
    "version": 3
   },
   "file_extension": ".py",
   "mimetype": "text/x-python",
   "name": "python",
   "nbconvert_exporter": "python",
   "pygments_lexer": "ipython3",
   "version": "3.8.18"
  }
 },
 "nbformat": 4,
 "nbformat_minor": 5
}
