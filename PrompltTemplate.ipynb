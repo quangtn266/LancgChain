{
 "cells": [
  {
   "cell_type": "code",
   "execution_count": 1,
   "id": "c8497ca9-625e-4ae1-9704-b9926d055f11",
   "metadata": {},
   "outputs": [],
   "source": [
    "import os\n",
   ]
  },
  {
   "cell_type": "code",
   "execution_count": 2,
   "id": "4bd968b6-62ca-43fd-bf6f-e92732f7fa98",
   "metadata": {},
   "outputs": [],
   "source": [
    "from langchain.llms import OpenAI"
   ]
  },
  {
   "cell_type": "code",
   "execution_count": 15,
   "id": "1458abff-2fa9-4329-917e-59f45a174902",
   "metadata": {},
   "outputs": [],
   "source": [
    "llm  = OpenAI(model_name=\"gpt-3.5-turbo-instruct\")"
   ]
  },
  {
   "cell_type": "code",
   "execution_count": 18,
   "id": "de1fd2fc-09e5-4e72-b914-21aaf246fdcd",
   "metadata": {},
   "outputs": [],
   "source": [
    "our_prompt =  \"\"\"\n",
    "I love trips, and I have been to 6 countries. \n",
    "I plan to visit few more soon.\n",
    "\n",
    "Can you create a post for tweet in 10 words for the above?\n",
    "\"\"\""
   ]
  },
  {
   "cell_type": "code",
   "execution_count": 19,
   "id": "2972065a-da87-4804-b395-526bd40e5303",
   "metadata": {},
   "outputs": [
    {
     "name": "stdout",
     "output_type": "stream",
     "text": [
      "\n",
      "I love trips, and I have been to 6 countries. \n",
      "I plan to visit few more soon.\n",
      "\n",
      "Can you create a post for tweet in 10 words for the above?\n",
      "\n"
     ]
    }
   ],
   "source": [
    "print(our_prompt)"
   ]
  },
  {
   "cell_type": "code",
   "execution_count": 9,
   "id": "c8802222-8640-400e-856e-69e2f8237b07",
   "metadata": {},
   "outputs": [],
   "source": [
    "from langchain import PromptTemplate"
   ]
  },
  {
   "cell_type": "code",
   "execution_count": 10,
   "id": "de1d884d-6428-4f95-8ccb-f5b511bbb222",
   "metadata": {},
   "outputs": [],
   "source": [
    "llm = OpenAI(model_name=\"text-davinci-003\")"
   ]
  },
  {
   "cell_type": "code",
   "execution_count": 11,
   "id": "2c506c8d-0cc0-40b5-a7f0-a31ff56059c1",
   "metadata": {},
   "outputs": [],
   "source": [
    "wordsCount = 3"
   ]
  },
  {
   "cell_type": "code",
   "execution_count": 12,
   "id": "8933a49d-cea8-4a0c-b199-43bf17ee5aac",
   "metadata": {},
   "outputs": [],
   "source": [
    "our_text = \"I love trips, and I have been to 6 countries. I plan to visit few more soon.\""
   ]
  },
  {
   "cell_type": "code",
   "execution_count": 16,
   "id": "cf381917-ed2c-4d1a-8e13-8f8435b017e6",
   "metadata": {},
   "outputs": [],
   "source": [
    "our_prompt = f\"\"\"\n",
    "{our_text}\n",
    "\n",
    "Can you create a post for tweet in {wordsCount} words for the above?\n",
    "\"\"\""
   ]
  },
  {
   "cell_type": "code",
   "execution_count": 17,
   "id": "e3bbe7be-2200-4bb7-98eb-dbdc49342503",
   "metadata": {},
   "outputs": [
    {
     "data": {
      "text/plain": [
       "'\\n\"Travel bug bites 🌎✈️ #wanderlust #adventure\"'"
      ]
     },
     "execution_count": 17,
     "metadata": {},
     "output_type": "execute_result"
    }
   ],
   "source": [
    "llm(our_prompt)"
   ]
  },
  {
   "cell_type": "code",
   "execution_count": 20,
   "id": "98524c80-3f08-419e-b7e5-a2879f777991",
   "metadata": {},
   "outputs": [],
   "source": [
    "template = \"\"\"\n",
    "{our_text}\n",
    "\n",
    "Can you create a post for tweet in {wordCount} words for the above?\n",
    "\"\"\""
   ]
  },
  {
   "cell_type": "code",
   "execution_count": 21,
   "id": "0379f9ca-05ac-4207-90bd-eed33828a9e6",
   "metadata": {},
   "outputs": [],
   "source": [
    "prompt = PromptTemplate(\n",
    "    input_variables=[\"wordsCount\", \"our_text\"],\n",
    "    template=template,\n",
    ")"
   ]
  },
  {
   "cell_type": "code",
   "execution_count": 23,
   "id": "d9d9661f-9983-48e9-b8c9-2dacb5d0dbcb",
   "metadata": {},
   "outputs": [],
   "source": [
    "final_prompt = prompt.format(wordCount='3', our_text=\"I love trips, and I have been to 6 countries. I plan to visit few more soon.\")"
   ]
  },
  {
   "cell_type": "code",
   "execution_count": 24,
   "id": "cd882947-4029-4ffe-a808-0ea64d803bbd",
   "metadata": {},
   "outputs": [
    {
     "name": "stdout",
     "output_type": "stream",
     "text": [
      "\n",
      "I love trips, and I have been to 6 countries. I plan to visit few more soon.\n",
      "\n",
      "Can you create a post for tweet in 3 words for the above?\n",
      "\n"
     ]
    }
   ],
   "source": [
    "print(final_prompt)"
   ]
  },
  {
   "cell_type": "code",
   "execution_count": 26,
   "id": "deeb2411-2f6b-42b4-a200-f289c7643012",
   "metadata": {},
   "outputs": [
    {
     "name": "stdout",
     "output_type": "stream",
     "text": [
      "\n",
      "\"Travel addict here! 🌎✈️ #wanderlust #globetrotter #adventure\"\n"
     ]
    }
   ],
   "source": [
    "print(llm(final_prompt))"
   ]
  },
  {
   "cell_type": "code",
   "execution_count": null,
   "id": "ecc74800-adae-4826-96f1-9b869d5d592b",
   "metadata": {},
   "outputs": [],
   "source": []
  }
 ],
 "metadata": {
  "kernelspec": {
   "display_name": "Python 3 (ipykernel)",
   "language": "python",
   "name": "python3"
  },
  "language_info": {
   "codemirror_mode": {
    "name": "ipython",
    "version": 3
   },
   "file_extension": ".py",
   "mimetype": "text/x-python",
   "name": "python",
   "nbconvert_exporter": "python",
   "pygments_lexer": "ipython3",
   "version": "3.8.18"
  }
 },
 "nbformat": 4,
 "nbformat_minor": 5
}
