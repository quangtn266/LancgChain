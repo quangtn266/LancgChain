{
 "cells": [
  {
   "cell_type": "code",
   "execution_count": 28,
   "id": "72f9bf26-0004-4d71-91a3-bc1107f5598f",
   "metadata": {},
   "outputs": [],
   "source": [
    "import os\n",
    "os.environ[\"OPENAI_API_KEY\"]=\" \"\n",
    "os.environ[\"HUGGINGFACEHUB_API_TOKEN\"]=\" \""
   ]
  },
  {
   "cell_type": "code",
   "execution_count": 10,
   "id": "744c0421-5450-4873-a44b-ef1926ec9392",
   "metadata": {},
   "outputs": [],
   "source": [
    "from langchain.llms import OpenAI\n",
    "from langchain.prompts import PromptTemplate\n",
    "from langchain.chains import LLMChain"
   ]
  },
  {
   "cell_type": "code",
   "execution_count": 11,
   "id": "4eee6826-1cdc-4971-a46a-df71b0ac99a0",
   "metadata": {},
   "outputs": [],
   "source": [
    "llm = OpenAI()"
   ]
  },
  {
   "cell_type": "code",
   "execution_count": 12,
   "id": "94e5a1e3-f367-4293-829e-9254ae3fb599",
   "metadata": {},
   "outputs": [],
   "source": [
    "prompt = PromptTemplate(\n",
    "    input_variables=[\"place\"],\n",
    "    template=\"Best places visit in {places}?\"\n",
    ")"
   ]
  },
  {
   "cell_type": "code",
   "execution_count": 13,
   "id": "f4cc0fea-79ae-4eb8-b6ce-bd942b0dee91",
   "metadata": {},
   "outputs": [
    {
     "name": "stdout",
     "output_type": "stream",
     "text": [
      "\n",
      "\n",
      "1. Ha Long Bay\n",
      "2. Hoi An Ancient Town\n",
      "3. Ho Chi Minh City (formerly Saigon)\n",
      "4. Hue Imperial City\n",
      "5. Sapa\n",
      "6. Phu Quoc Island\n",
      "7. Ninh Binh Province (including Tam Coc and Trang An)\n",
      "8. Da Nang\n",
      "9. Hanoi\n",
      "10. Mekong Delta region.\n"
     ]
    }
   ],
   "source": [
    "chain = LLMChain(llm=llm, prompt=prompt)\n",
    "\n",
    "# Run the chain only specifying the input variable.\n",
    "print(chain.run(\"Vietnam\"))"
   ]
  },
  {
   "cell_type": "code",
   "execution_count": 14,
   "id": "796db3eb-7f83-47ff-b569-76dd763bbadc",
   "metadata": {},
   "outputs": [],
   "source": [
    "from langchain.chains import SimpleSequentialChain\n",
    "from langchain import HuggingFaceHub"
   ]
  },
  {
   "cell_type": "code",
   "execution_count": 15,
   "id": "42eb1a18-4d50-4e99-82fb-54c1d4377c2e",
   "metadata": {},
   "outputs": [],
   "source": [
    "template = \"\"\" you have to suggest 5 best places to visit in {place}?\n",
    "YOUR RESPONSE:\n",
    "\"\"\"\n",
    "prompt_template = PromptTemplate(\n",
    "    input_variables=[\"place\"],\n",
    "    template=template\n",
    ")"
   ]
  },
  {
   "cell_type": "code",
   "execution_count": 16,
   "id": "09f258e3-562b-4b4b-abea-89617b1eb166",
   "metadata": {},
   "outputs": [
    {
     "name": "stderr",
     "output_type": "stream",
     "text": [
      "/Users/quangtn/opt/anaconda3/envs/bentoML/lib/python3.8/site-packages/tqdm/auto.py:21: TqdmWarning: IProgress not found. Please update jupyter and ipywidgets. See https://ipywidgets.readthedocs.io/en/stable/user_install.html\n",
      "  from .autonotebook import tqdm as notebook_tqdm\n",
      "/Users/quangtn/opt/anaconda3/envs/bentoML/lib/python3.8/site-packages/huggingface_hub/utils/_deprecation.py:127: FutureWarning: '__init__' (from 'huggingface_hub.inference_api') is deprecated and will be removed from version '1.0'. `InferenceApi` client is deprecated in favor of the more feature-complete `InferenceClient`. Check out this guide to learn how to convert your script to use it: https://huggingface.co/docs/huggingface_hub/guides/inference#legacy-inferenceapi-client.\n",
      "  warnings.warn(warning_message, FutureWarning)\n"
     ]
    }
   ],
   "source": [
    "HF_llm = HuggingFaceHub(repo_id=\"google/flan-t5-large\")"
   ]
  },
  {
   "cell_type": "code",
   "execution_count": 17,
   "id": "623e86f8-8516-48a0-adf1-e9aa50df5218",
   "metadata": {},
   "outputs": [],
   "source": [
    "place_train = LLMChain(llm=llm, prompt=prompt_template)"
   ]
  },
  {
   "cell_type": "code",
   "execution_count": 18,
   "id": "a7be42ea-9840-4688-9221-89472fe3dab5",
   "metadata": {},
   "outputs": [],
   "source": [
    "template=\"\"\"Given a list places, please estimate the expenses to visit all of them in local\n",
    "    currency and also the days needed {expenses}\n",
    "    YOUR RESPONSE:\n",
    "    \"\"\"\n",
    "prompt_template=PromptTemplate(\n",
    "    input_variables=[\"expenses\"],\n",
    "    template=template\n",
    ")"
   ]
  },
  {
   "cell_type": "code",
   "execution_count": 19,
   "id": "d11f828d-da1f-4e74-9e7a-ebfb864ee2eb",
   "metadata": {},
   "outputs": [],
   "source": [
    "llm=OpenAI()"
   ]
  },
  {
   "cell_type": "code",
   "execution_count": 20,
   "id": "2e7c6da7-f0d3-40d9-b280-82e17fdb9fa1",
   "metadata": {},
   "outputs": [],
   "source": [
    "exepense_chain = LLMChain(llm=llm, prompt=prompt_template)"
   ]
  },
  {
   "cell_type": "code",
   "execution_count": 25,
   "id": "98e184c9-1324-4d06-9b41-8ae0e0fd3777",
   "metadata": {},
   "outputs": [],
   "source": [
    "final_chain=SimpleSequentialChain(chains=[place_train, exepense_chain], verbose=True)"
   ]
  },
  {
   "cell_type": "code",
   "execution_count": 26,
   "id": "4b2ad401-309d-409d-a843-61de63019972",
   "metadata": {},
   "outputs": [
    {
     "name": "stdout",
     "output_type": "stream",
     "text": [
      "\n",
      "\n",
      "\u001b[1m> Entering new SimpleSequentialChain chain...\u001b[0m\n",
      "\u001b[36;1m\u001b[1;3m\n",
      "1. Ha Long Bay - This UNESCO World Heritage Site is known for its stunning limestone cliffs and emerald green waters. Visitors can take a boat tour to explore the bay and its many caves, or go kayaking and swimming in the calm waters.\n",
      "\n",
      "2. Hoi An - This charming ancient town is a must-visit for its well-preserved architecture, colorful lanterns, and rich cultural heritage. Take a stroll through the old town, visit the Japanese Covered Bridge, and try some local specialties at the bustling night market.\n",
      "\n",
      "3. Ho Chi Minh City - Formerly known as Saigon, this bustling metropolis is the economic and cultural hub of Vietnam. Visit iconic landmarks such as the Notre-Dame Cathedral and the Reunification Palace, or immerse yourself in the local street food scene.\n",
      "\n",
      "4. Sapa - Located in the mountainous northwest region of Vietnam, Sapa is known for its picturesque rice terraces and colorful hill tribe villages. Trekking through the lush valleys and visiting local markets are popular activities here.\n",
      "\n",
      "5. Phu Quoc - This tropical island in the Gulf of Thailand is a paradise for beach lovers. With its white sandy beaches, crystal clear waters, and lush green forests, it's the perfect place to relax and unwind. Don\u001b[0m\n",
      "\u001b[33;1m\u001b[1;3m\n",
      "1. Ha Long Bay - Estimated Expenses: 1,000,000 VND per day (includes boat tour and activities) \n",
      "Days Needed: 2 days\n",
      "2. Hoi An - Estimated Expenses: 500,000 VND per day (includes food and activities) \n",
      "Days Needed: 2 days\n",
      "3. Ho Chi Minh City - Estimated Expenses: 1,000,000 VND per day (includes accommodation, food, and activities) \n",
      "Days Needed: 3 days\n",
      "4. Sapa - Estimated Expenses: 800,000 VND per day (includes trekking tour and activities) \n",
      "Days Needed: 2 days\n",
      "5. Phu Quoc - Estimated Expenses: 1,500,000 VND per day (includes accommodation, food, and activities) \n",
      "Days Needed: 3 days\u001b[0m\n",
      "\n",
      "\u001b[1m> Finished chain.\u001b[0m\n"
     ]
    }
   ],
   "source": [
    "review = final_chain.run(\"Vietnam\")"
   ]
  },
  {
   "cell_type": "code",
   "execution_count": null,
   "id": "d5d67ff2-8e78-45aa-9679-e0be5acc620f",
   "metadata": {},
   "outputs": [],
   "source": []
  }
 ],
 "metadata": {
  "kernelspec": {
   "display_name": "Python 3 (ipykernel)",
   "language": "python",
   "name": "python3"
  },
  "language_info": {
   "codemirror_mode": {
    "name": "ipython",
    "version": 3
   },
   "file_extension": ".py",
   "mimetype": "text/x-python",
   "name": "python",
   "nbconvert_exporter": "python",
   "pygments_lexer": "ipython3",
   "version": "3.8.18"
  }
 },
 "nbformat": 4,
 "nbformat_minor": 5
}
